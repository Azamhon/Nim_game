{
 "cells": [
  {
   "cell_type": "code",
   "execution_count": 2,
   "metadata": {},
   "outputs": [],
   "source": [
    "def main():\n",
    "    print('Welcome to the nim game. Nim is a mathematical game of strategy in which two players take turns removing (or \"nimming\") \\n objects from distinct heaps or piles. On each turn, a player must remove at least one object, and may remove any number of objects provided they all come from the same heap or pile. the player to take the last match wins.')\n",
    "    global board_state\n",
    "    board_state = [1,3,5,7]\n",
    "    playmode = input('Do you want to play with another player or play a bot?:')\n",
    "    if playmode == 'player':\n",
    "        turn = 'player1'\n",
    "        while True:\n",
    "            player_turn(turn)\n",
    "            if board_state == []:\n",
    "                break\n",
    "\n",
    "            if turn == 'player1':\n",
    "                turn = 'player2'\n",
    "            else:\n",
    "                turn = 'player1'\n",
    "    elif playmode == 'bot':\n",
    "        turn = 'player'\n",
    "        while True:\n",
    "            if turn == 'player':\n",
    "                player_turn(turn)\n",
    "            else:\n",
    "                bot_turn()\n",
    "\n",
    "            if board_state == []:\n",
    "                break\n",
    "\n",
    "            if turn == 'player':\n",
    "                turn = 'bot'\n",
    "            else:\n",
    "                turn = 'player'\n",
    "    print(turn, 'Won')"
   ]
  },
  {
   "cell_type": "code",
   "execution_count": 3,
   "metadata": {},
   "outputs": [],
   "source": [
    "def print_board():\n",
    "    print('Current board state looks like the following')\n",
    "    global board_state\n",
    "    for i in board_state:\n",
    "        print(\"|\"*i)"
   ]
  },
  {
   "cell_type": "code",
   "execution_count": 4,
   "metadata": {},
   "outputs": [],
   "source": [
    "def removing_matches(state, pair):\n",
    "    state[int(pair[0])-1] -= int(pair[1])\n",
    "    if state[int(pair[0])-1] <= 0:\n",
    "        state.pop(int(pair[0])-1)\n",
    "    global board_state\n",
    "    board_state = state"
   ]
  },
  {
   "cell_type": "code",
   "execution_count": 5,
   "metadata": {},
   "outputs": [],
   "source": [
    "def player_turn(turn):\n",
    "    global board_state\n",
    "    print_board()\n",
    "    print('It is turn for', turn, 'to take matches.')\n",
    "    removing_matches(board_state, input('give me a combination of 2 numbers. first is a line you are taking matches from and the second is number of matches you are taking: ').split())"
   ]
  },
  {
   "cell_type": "code",
   "execution_count": 6,
   "metadata": {},
   "outputs": [],
   "source": [
    "def bot_turn():\n",
    "    global board_state\n",
    "    nim=0\n",
    "    for i in board_state:\n",
    "        nim=nim^i\n",
    "    print_board()\n",
    "    counter=0\n",
    "    for i in board_state:\n",
    "        if (nim^i) < i:\n",
    "            print(\"Bot take {} matche(s) from Pile {}\".format(board_state[counter]-(nim^i),counter+1))\n",
    "            removing_matches(board_state,[str(counter+1),str(board_state[counter]-(nim^i))])\n",
    "            \n",
    "            break\n",
    "        counter=counter+1  \n",
    "\n",
    "    "
   ]
  },
  {
   "cell_type": "code",
   "execution_count": 7,
   "metadata": {},
   "outputs": [
    {
     "name": "stdout",
     "output_type": "stream",
     "text": [
      "Welcome to the nim game. Nim is a mathematical game of strategy in which two players take turns removing (or \"nimming\") \n",
      " objects from distinct heaps or piles. On each turn, a player must remove at least one object, and may remove any number of objects provided they all come from the same heap or pile. the player to take the last match wins.\n",
      "Current board state looks like the following\n",
      "|\n",
      "|||\n",
      "|||||\n",
      "|||||||\n",
      "It is turn for player to take matches.\n",
      "Current board state looks like the following\n",
      "|\n",
      "|||\n",
      "||\n",
      "|||||||\n",
      "Bot take 7 matche(s) from Pile 4\n",
      "Current board state looks like the following\n",
      "|\n",
      "|||\n",
      "||\n",
      "It is turn for player to take matches.\n",
      "Current board state looks like the following\n",
      "|\n",
      "||\n",
      "Bot take 1 matche(s) from Pile 2\n",
      "Current board state looks like the following\n",
      "|\n",
      "|\n",
      "It is turn for player to take matches.\n",
      "Current board state looks like the following\n",
      "|\n",
      "Bot take 1 matche(s) from Pile 1\n",
      "bot Won\n"
     ]
    }
   ],
   "source": [
    "main()"
   ]
  },
  {
   "cell_type": "code",
   "execution_count": null,
   "metadata": {},
   "outputs": [],
   "source": []
  }
 ],
 "metadata": {
  "kernelspec": {
   "display_name": "Python 3.9.6 64-bit",
   "language": "python",
   "name": "python3"
  },
  "language_info": {
   "codemirror_mode": {
    "name": "ipython",
    "version": 3
   },
   "file_extension": ".py",
   "mimetype": "text/x-python",
   "name": "python",
   "nbconvert_exporter": "python",
   "pygments_lexer": "ipython3",
   "version": "3.9.6"
  },
  "orig_nbformat": 4,
  "vscode": {
   "interpreter": {
    "hash": "31f2aee4e71d21fbe5cf8b01ff0e069b9275f58929596ceb00d14d90e3e16cd6"
   }
  }
 },
 "nbformat": 4,
 "nbformat_minor": 2
}
